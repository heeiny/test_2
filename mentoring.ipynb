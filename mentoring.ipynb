{
 "cells": [
  {
   "cell_type": "markdown",
   "metadata": {},
   "source": [
    "# **# H1**\n",
    "\n",
    "## **## H2**\n",
    "\n",
    "### **### H3**\n",
    "\n",
    "### **#### H4 (노션에서는  H4부터는 불가능)**\n",
    "\n",
    "### **##### H5 (노션에서는  H4부터는 불가능)**\n",
    "\n",
    "### **###### H6 (노션에서는  H4부터는 불가능)**"
   ]
  },
  {
   "cell_type": "markdown",
   "metadata": {},
   "source": []
  },
  {
   "cell_type": "code",
   "execution_count": null,
   "metadata": {},
   "outputs": [],
   "source": [
    "sadasdasdqd = asdad"
   ]
  },
  {
   "cell_type": "markdown",
   "metadata": {},
   "source": [
    ">## **줄바꿈**\n",
    "\n",
    "마크다운에서 Enter 하나를 입력하면 줄바꿈이 되지 않습니다. 줄을 바꾸기 위해서는 `<br/>`를 쓸 수도 있으나, 라인의 마지막에 공백 두 칸을 입력하면 줄바꿈을 할 수 있습니다."
   ]
  },
  {
   "cell_type": "markdown",
   "metadata": {},
   "source": [
    ">## **이탤릭체**\n",
    "\n",
    "*이탤릭체* 로 표시하려면 원하는 곳을 `_`, `*`로 감싸주면 됩니다."
   ]
  },
  {
   "cell_type": "markdown",
   "metadata": {},
   "source": [
    ">## **인용문(Blockquote)**\n",
    "\n",
    "인용문은 `>`을 앞에 붙여주면 됩니다."
   ]
  },
  {
   "cell_type": "markdown",
   "metadata": {},
   "source": []
  },
  {
   "cell_type": "markdown",
   "metadata": {},
   "source": [
    ">## **순서 있는 목록**\n",
    "\n",
    "순서 있는 목록을 표시할 때는 숫자+마침표(.)를 사용합니다. 마침표 뒤에 공백 한 칸을 추가해야 정상적인 문법입니다. 만약 공백이 없다면 순서 있는 목록으로 사용되지 않습니다."
   ]
  },
  {
   "cell_type": "markdown",
   "metadata": {},
   "source": [
    ">## **순서 없는 목록**\n",
    "\n",
    "순서 없는 목록은 `*`, `+`, `-` 세 가지 방법을 사용할 수 있습니다. 들여쓰기를 하면 하위의 목록으로 만들 수 있습니다."
   ]
  },
  {
   "cell_type": "markdown",
   "metadata": {},
   "source": [
    "- 순서가 없는 목록1\n",
    "    - 순서 없는 목록1-1\n",
    "    - 순서 없는 목록1-2\n",
    "        - 순서 없는 목록1-2-1\n",
    "- 순서가 없는 목록2\n",
    "    - 순서가 없는 목록2-1\n",
    "- 순서가 없는 목록3"
   ]
  },
  {
   "cell_type": "markdown",
   "metadata": {},
   "source": [
    "```이게 중요해```\n",
    "\n",
    "# 종가 시각화\n",
    "plt.figure(figsize=(16, 9))\n",
    "sns.lineplot(y=kd['종가'], x=kd['일자'])\n",
    "plt.xlabel('일자')\n",
    "plt.ylabel('종가')\n",
    "\n",
    "---"
   ]
  },
  {
   "cell_type": "markdown",
   "metadata": {},
   "source": [
    "[구글](https://www.google.com/webhp?hl=ko&sa=X&ved=0ahUKEwjZzO30tZv5AhXQAt4KHREQDhkQPAgI)"
   ]
  },
  {
   "cell_type": "markdown",
   "metadata": {},
   "source": [
    "# 강조"
   ]
  },
  {
   "cell_type": "markdown",
   "metadata": {},
   "source": [
    "동해물과 ***백두산이***"
   ]
  },
  {
   "cell_type": "markdown",
   "metadata": {},
   "source": [
    "~~백두산이~~"
   ]
  },
  {
   "cell_type": "markdown",
   "metadata": {},
   "source": [
    "# 이미지 입력"
   ]
  },
  {
   "cell_type": "markdown",
   "metadata": {},
   "source": [
    "![Alt text](1234.jpg)"
   ]
  },
  {
   "cell_type": "markdown",
   "metadata": {},
   "source": []
  }
 ],
 "metadata": {
  "kernelspec": {
   "display_name": "Python 3.9.13 64-bit",
   "language": "python",
   "name": "python3"
  },
  "language_info": {
   "codemirror_mode": {
    "name": "ipython",
    "version": 3
   },
   "file_extension": ".py",
   "mimetype": "text/x-python",
   "name": "python",
   "nbconvert_exporter": "python",
   "pygments_lexer": "ipython3",
   "version": "3.9.13"
  },
  "orig_nbformat": 4,
  "vscode": {
   "interpreter": {
    "hash": "82ed002fa2d4956f5c6aec99bcefe0f73a9f79882f3c9e2319b14958a5896ac5"
   }
  }
 },
 "nbformat": 4,
 "nbformat_minor": 2
}
