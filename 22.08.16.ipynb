{
 "cells": [
  {
   "cell_type": "markdown",
   "metadata": {},
   "source": [
    "깃과 깃허브는 다른 거임\n",
    "깃은 그림판(하드디스크 저장소). 깃허브는 그걸 웹에 올리는 장소\n",
    "Ctrl+ '~' : 터미널 열기\n",
    "git.init을 쓰면 git에 업로드 됨"
   ]
  },
  {
   "cell_type": "code",
   "execution_count": null,
   "metadata": {},
   "outputs": [],
   "source": [
    "git init\n",
    "git add .   ## 현재까지 한 것 저장하는 함수, 띄어쓰기도 해야 함 add한 시점으로 업로드 됨\n",
    "git commit -m \"first commit\"  # 이름 변경\n",
    "git remote add origin https://github.com/heeiny/test_2.git     #Ctrl+v 한 주소에 add하기\n",
    "git push \n",
    "git push -u origin master # 처음부터 시작하는 코드\n"
   ]
  },
  {
   "cell_type": "markdown",
   "metadata": {},
   "source": [
    "#### github가 자동으로 master폴더에 들어감 "
   ]
  },
  {
   "cell_type": "code",
   "execution_count": null,
   "metadata": {},
   "outputs": [],
   "source": [
    "git init ## 폴더에서 최초에만 사용 "
   ]
  },
  {
   "cell_type": "code",
   "execution_count": null,
   "metadata": {},
   "outputs": [],
   "source": [
    "git add .   ## 현재까지 한 것 저장하는 함수, 띄어쓰기도 해야 함 add한 시점으로 업로드 됨\n",
    "git commit -m \"first commit\"  # 이름 변경\n",
    "git remote add origin https://github.com/heeiny/test_2.git     #Ctrl+v 한 주소에 add하기\n",
    "git push \n",
    "git push -u origin master # 처음부터 시작하는 코드"
   ]
  },
  {
   "cell_type": "code",
   "execution_count": null,
   "metadata": {},
   "outputs": [],
   "source": [
    "yghkkjhkj"
   ]
  }
 ],
 "metadata": {
  "kernelspec": {
   "display_name": "Python 3.9.13 64-bit",
   "language": "python",
   "name": "python3"
  },
  "language_info": {
   "name": "python",
   "version": "3.9.13"
  },
  "orig_nbformat": 4,
  "vscode": {
   "interpreter": {
    "hash": "82ed002fa2d4956f5c6aec99bcefe0f73a9f79882f3c9e2319b14958a5896ac5"
   }
  }
 },
 "nbformat": 4,
 "nbformat_minor": 2
}
