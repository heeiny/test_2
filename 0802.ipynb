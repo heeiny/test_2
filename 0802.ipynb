{
 "cells": [
  {
   "cell_type": "code",
   "execution_count": 1,
   "metadata": {},
   "outputs": [],
   "source": [
    "class car():\n",
    "    wheels =6\n",
    "    doors = 4\n",
    "    windows = 4\n",
    "\n",
    "    def start1(self):\n",
    "        print(self.doors)\n",
    "        print(f\"I'm started {self.wheels}\")\n",
    "        \n",
    "    def start2(self): \n",
    "        print(self.doors)\n",
    "        print(porche.doors)"
   ]
  },
  {
   "cell_type": "code",
   "execution_count": 3,
   "metadata": {},
   "outputs": [
    {
     "ename": "SyntaxError",
     "evalue": "cannot assign to function call (2938861382.py, line 1)",
     "output_type": "error",
     "traceback": [
      "\u001b[1;36m  Input \u001b[1;32mIn [3]\u001b[1;36m\u001b[0m\n\u001b[1;33m    car()=porche\u001b[0m\n\u001b[1;37m    ^\u001b[0m\n\u001b[1;31mSyntaxError\u001b[0m\u001b[1;31m:\u001b[0m cannot assign to function call\n"
     ]
    }
   ],
   "source": [
    "st"
   ]
  },
  {
   "cell_type": "code",
   "execution_count": 2,
   "metadata": {},
   "outputs": [
    {
     "ename": "NameError",
     "evalue": "name 'porche' is not defined",
     "output_type": "error",
     "traceback": [
      "\u001b[1;31m---------------------------------------------------------------------------\u001b[0m",
      "\u001b[1;31mNameError\u001b[0m                                 Traceback (most recent call last)",
      "\u001b[1;32mc:\\Users\\user\\Desktop\\멘토링\\0802.ipynb 셀 2\u001b[0m in \u001b[0;36m<cell line: 1>\u001b[1;34m()\u001b[0m\n\u001b[1;32m----> <a href='vscode-notebook-cell:/c%3A/Users/user/Desktop/%EB%A9%98%ED%86%A0%EB%A7%81/0802.ipynb#ch0000019?line=0'>1</a>\u001b[0m porche\u001b[39m.\u001b[39mstart1()\n",
      "\u001b[1;31mNameError\u001b[0m: name 'porche' is not defined"
     ]
    }
   ],
   "source": [
    "porche.start1()"
   ]
  },
  {
   "cell_type": "code",
   "execution_count": 10,
   "metadata": {},
   "outputs": [
    {
     "name": "stdout",
     "output_type": "stream",
     "text": [
      "4\n",
      "4\n",
      "4\n",
      "4\n"
     ]
    }
   ],
   "source": [
    "porche.start2()\n",
    "car().start2()"
   ]
  },
  {
   "cell_type": "code",
   "execution_count": 11,
   "metadata": {},
   "outputs": [],
   "source": [
    "class car():\n",
    "    wheels = 6\n",
    "    doors = 4\n",
    "    windows = 4\n",
    "    \n",
    "    def start(self):\n",
    "        print(self.doors)\n",
    "        print(f\"i'm started {self.wheels}\")"
   ]
  },
  {
   "cell_type": "code",
   "execution_count": 13,
   "metadata": {},
   "outputs": [
    {
     "name": "stdout",
     "output_type": "stream",
     "text": [
      "4\n",
      "I'm started 6\n"
     ]
    }
   ],
   "source": [
    "porche.start1()"
   ]
  },
  {
   "cell_type": "markdown",
   "metadata": {},
   "source": [
    "#### args 함수를 사용할 때 파라미터 값을 가져온다"
   ]
  },
  {
   "cell_type": "markdown",
   "metadata": {},
   "source": [
    "#### list & dict 차이"
   ]
  },
  {
   "cell_type": "code",
   "execution_count": null,
   "metadata": {},
   "outputs": [],
   "source": [
    "def exam1(a, b, *args):\n",
    "    print(a)\n",
    "    print(b)\n",
    "    print(args)"
   ]
  },
  {
   "cell_type": "code",
   "execution_count": null,
   "metadata": {},
   "outputs": [],
   "source": [
    "exam1(1,2,3,4,5,6,7)"
   ]
  },
  {
   "cell_type": "code",
   "execution_count": null,
   "metadata": {},
   "outputs": [],
   "source": [
    "def exam2(a, b, **kwargs):\n",
    "    print(b,kwargs) "
   ]
  },
  {
   "cell_type": "code",
   "execution_count": null,
   "metadata": {},
   "outputs": [],
   "source": [
    "exam2(1,5,t=3, w=4)"
   ]
  },
  {
   "cell_type": "code",
   "execution_count": null,
   "metadata": {},
   "outputs": [],
   "source": [
    "def exam3(int1, int2 ,string1,*args, **kwargs):\n",
    "    print(args, kwargs)"
   ]
  },
  {
   "cell_type": "code",
   "execution_count": null,
   "metadata": {},
   "outputs": [],
   "source": [
    "exam3(1,1,3,4,5,6,t=3, w=4)"
   ]
  },
  {
   "cell_type": "code",
   "execution_count": 13,
   "metadata": {},
   "outputs": [],
   "source": [
    "class bicycle:\n",
    "    color = 'yellow'\n",
    "    wheel = 2\n",
    "    speed = 'normal'\n",
    "    gear = 3\n",
    "\n",
    "    def changeSpeed(self,str_speed):\n",
    "        print('changeSpeed 호출')\n",
    "        self.speed=str_speed #현재 self.speed = 'normal'입니다\n",
    "        print(f'현재 스피드는 {self.speed}입니다')\n",
    "    def changeGear(self,n):\n",
    "        print('changeGear 호출')\n",
    "        self.gear = n #현재 self.gear = 3입니다\n",
    "        print(f'현재 Gear는 {self.gear}입니다')"
   ]
  },
  {
   "cell_type": "code",
   "execution_count": 12,
   "metadata": {},
   "outputs": [
    {
     "name": "stdout",
     "output_type": "stream",
     "text": [
      "changeSpeed 호출\n",
      "현재 스피드는 fast입니다\n"
     ]
    }
   ],
   "source": [
    "bicycle().changeSpeed('fast')"
   ]
  },
  {
   "cell_type": "code",
   "execution_count": 14,
   "metadata": {},
   "outputs": [
    {
     "name": "stdout",
     "output_type": "stream",
     "text": [
      "changeGear 호출\n",
      "현재 Gear는 3입니다\n"
     ]
    }
   ],
   "source": [
    "bicycle().changeGear('3')"
   ]
  },
  {
   "cell_type": "code",
   "execution_count": null,
   "metadata": {},
   "outputs": [],
   "source": []
  }
 ],
 "metadata": {
  "kernelspec": {
   "display_name": "Python 3.9.13 64-bit",
   "language": "python",
   "name": "python3"
  },
  "language_info": {
   "codemirror_mode": {
    "name": "ipython",
    "version": 3
   },
   "file_extension": ".py",
   "mimetype": "text/x-python",
   "name": "python",
   "nbconvert_exporter": "python",
   "pygments_lexer": "ipython3",
   "version": "3.9.13"
  },
  "orig_nbformat": 4,
  "vscode": {
   "interpreter": {
    "hash": "82ed002fa2d4956f5c6aec99bcefe0f73a9f79882f3c9e2319b14958a5896ac5"
   }
  }
 },
 "nbformat": 4,
 "nbformat_minor": 2
}
